{
 "cells": [
  {
   "cell_type": "markdown",
   "metadata": {},
   "source": [
    "# Relation of schooling years to education\n",
    "\n",
    "In this notebook we will analyze the correlation between years of education and the proficiency in certain skills.\n",
    "\n",
    "First we will load all the data and extract the relevant indicators (see notebook `11` for details):"
   ]
  },
  {
   "cell_type": "code",
   "execution_count": 1,
   "metadata": {},
   "outputs": [],
   "source": [
    "import numpy as np\n",
    "import pandas as pd\n",
    "import seaborn as sns\n",
    "import os\n",
    "from matplotlib import pyplot as plt\n",
    "import edstats_utils as edstats\n",
    "%matplotlib inline\n",
    "\n",
    "# some pandas options\n",
    "pd.set_option('display.max_colwidth', -1)\n",
    "\n",
    "# load the relevant data\n",
    "datapath = \"./datasets/edstats\"\n",
    "df_country = pd.read_csv(os.path.join(datapath, \"EdStatsCountry.csv\"))\n",
    "df_data = pd.read_csv(os.path.join(datapath, \"EdStatsData.csv\"))\n",
    "df_series = pd.read_csv(os.path.join(datapath, \"EdStatsSeries.csv\"))\n",
    "df_note = pd.read_csv(os.path.join(datapath, \"EdStatsFootNote.csv\"))\n",
    "df_cseries = pd.read_csv(os.path.join(datapath, \"EdStatsCountry-Series.csv\"))"
   ]
  },
  {
   "cell_type": "markdown",
   "metadata": {},
   "source": [
    "Now we are using the extraction functions defined in `edstats` to extract the relevant data we are going to need"
   ]
  },
  {
   "cell_type": "code",
   "execution_count": 2,
   "metadata": {},
   "outputs": [],
   "source": [
    "# retrieve the proficiency skills\n",
    "df_adult_prof = edstats.retrieve_skill_piaac(df_data)\n",
    "df_pisa = edstats.retrieve_skill_pisa(df_data)\n",
    "df_stud_bm = edstats.retrieve_skill_timss(df_data)\n",
    "df_stud_prof = edstats.retrieve_skill_llece(df_data)\n",
    "\n",
    "# retrieve the data for mean schooling years\n",
    "df_wp_meanschool = edstats.retrieve_wittgenstein_mean_schooling(df_data)\n",
    "df_bl_eduperc = edstats.retrieve_barrolee_percentage(df_data)\n",
    "df_bl_eduyears = edstats.retrieve_barrolee_years(df_data)\n",
    "df_ed_years = edstats.retrieve_education_length(df_data)"
   ]
  },
  {
   "cell_type": "markdown",
   "metadata": {},
   "source": [
    "We are using different indicators, however the first step will be to identify, which provides the best data source.\n",
    "\n",
    "## Which skills to use\n",
    "\n",
    "Let us first take a look at the skill data. The main questions we want to answer:\n",
    "\n",
    "* What is the coverage of the data across countries and years?\n",
    "* Which skills do we have?\n",
    "* Can we identify certain trends regarding the skills?\n"
   ]
  },
  {
   "cell_type": "code",
   "execution_count": 3,
   "metadata": {},
   "outputs": [
    {
     "name": "stdout",
     "output_type": "stream",
     "text": [
      "Index(['Country Name', 'Country Code', 'Indicator Name', 'Indicator Code',\n",
      "       '2012', '2015', 'indicator', 'gender', 'subject', 'level'],\n",
      "      dtype='object')\n",
      "Index(['Country Name', 'Country Code', 'Indicator Name', 'Indicator Code',\n",
      "       '2000', '2003', '2006', '2009', '2012', '2015', 'indicator', 'gender',\n",
      "       'subject', 'level'],\n",
      "      dtype='object')\n",
      "Index(['Country Name', 'Country Code', 'Indicator Name', 'Indicator Code',\n",
      "       '1995', '1999', '2003', '2007', '2011', '2015', 'indicator', 'gender',\n",
      "       'subject', 'achievement'],\n",
      "      dtype='object')\n",
      "Index(['Country Name', 'Country Code', 'Indicator Name', 'Indicator Code',\n",
      "       '2006', '2013', 'indicator', 'gender', 'grade', 'subject', 'level'],\n",
      "      dtype='object')\n",
      "\n",
      "PIAAC Countries for subjects:\n",
      "------------------------------\n",
      "                                                 2012  2015\n",
      "subject                                                    \n",
      "literacy                                         22    8   \n",
      "numeracy                                         22    8   \n",
      "problem solving in technology-rich environments  22    8   \n",
      "\n",
      "PISA Countries for subjects:\n",
      "------------------------------\n",
      "             2000  2003  2006  2009  2012  2015\n",
      "subject                                        \n",
      "mathematics  0     41    56    70    64    71  \n",
      "reading      41    40    55    70    64    71  \n",
      "science      0     38    56    70    64    71  \n",
      "\n",
      "TIMSS Countries for subjects:\n",
      "------------------------------\n",
      "             1995  1999  2003  2007  2011  2015\n",
      "subject                                        \n",
      "mathematics  36    35    42    47    46    44  \n",
      "science      36    35    42    47    46    43  \n",
      "\n",
      "LLECE Countries for subjects:\n",
      "------------------------------\n",
      "             2006  2013\n",
      "subject                \n",
      "mathematics  16    15  \n",
      "reading      16    15  \n",
      "science      9     15  \n"
     ]
    }
   ],
   "source": [
    "# find the years available for the indicators\n",
    "print(df_adult_prof.dropna(axis=1, how='all').columns)\n",
    "print(df_pisa.dropna(axis=1, how='all').columns)\n",
    "print(df_stud_bm.dropna(axis=1, how='all').columns)\n",
    "print(df_stud_prof.dropna(axis=1, how='all').columns)\n",
    "\n",
    "ls = [\n",
    "    ('PIAAC', ['2012', '2015'], df_adult_prof), \n",
    "    (\"PISA\", ['2000', '2003', '2006', '2009', '2012', '2015'], df_pisa), \n",
    "    ('TIMSS', ['1995', '1999', '2003', '2007', '2011', '2015'], df_stud_bm),\n",
    "    ('LLECE', ['2006', '2013'], df_stud_prof)\n",
    "]\n",
    "\n",
    "# find the number of countries for each indicator\n",
    "for nm, yrs, df in ls:\n",
    "    print(\"\\n{} Countries for subjects:\".format(nm))\n",
    "    print(\"-\"*30)\n",
    "    print(df[df[yrs].isnull().min(axis=1) == False].groupby(['Indicator Name', 'subject']).count().groupby('subject').max()[yrs])"
   ]
  },
  {
   "cell_type": "markdown",
   "metadata": {},
   "source": [
    "We can see that the global coverage is quite low, with the adult proficiency score only having 22 countries and the Pisa Scores being available for only 71 countries in 2015. We also see a strong variance across the years. For the current question I will use the PIAAC (`df_adult_prof`) data, as we want to check how different years of education change the proficiency in certain skills of the entire population.\n",
    "\n",
    "Next lets visualize the data over the years:"
   ]
  },
  {
   "cell_type": "code",
   "execution_count": 4,
   "metadata": {},
   "outputs": [],
   "source": [
    "# clean the dataset and add the region\n",
    "ls_adult_years = ['2012', '2015']\n",
    "df_adpr_clean = edstats.filter_years(df_adult_prof, ls_adult_years).dropna(axis=1, how='all')\n",
    "df_adpr_clean = df_adpr_clean[df_adpr_clean.iloc[:, 4:6].isnull().min(axis=1) == False]\n",
    "df_adpr_clean = edstats.append_region(df_adpr_clean, df_country)"
   ]
  },
  {
   "cell_type": "code",
   "execution_count": 5,
   "metadata": {},
   "outputs": [
    {
     "data": {
      "text/html": [
       "<style  type=\"text/css\" >\n",
       "    #T_7cc29b1a_cbfe_11e9_82d4_0028f8551a21row0_col0 {\n",
       "            background-color:  #433d84;\n",
       "            color:  #f1f1f1;\n",
       "        }    #T_7cc29b1a_cbfe_11e9_82d4_0028f8551a21row0_col1 {\n",
       "            background-color:  #21918c;\n",
       "            color:  #000000;\n",
       "        }    #T_7cc29b1a_cbfe_11e9_82d4_0028f8551a21row1_col0 {\n",
       "            background-color:  #fde725;\n",
       "            color:  #000000;\n",
       "        }    #T_7cc29b1a_cbfe_11e9_82d4_0028f8551a21row1_col1 {\n",
       "            background-color:  #fde725;\n",
       "            color:  #000000;\n",
       "        }    #T_7cc29b1a_cbfe_11e9_82d4_0028f8551a21row2_col0 {\n",
       "            background-color:  #440154;\n",
       "            color:  #f1f1f1;\n",
       "        }    #T_7cc29b1a_cbfe_11e9_82d4_0028f8551a21row2_col1 {\n",
       "            background-color:  #3b528b;\n",
       "            color:  #f1f1f1;\n",
       "        }    #T_7cc29b1a_cbfe_11e9_82d4_0028f8551a21row3_col0 {\n",
       "            background-color:  #440154;\n",
       "            color:  #f1f1f1;\n",
       "        }    #T_7cc29b1a_cbfe_11e9_82d4_0028f8551a21row3_col1 {\n",
       "            background-color:  #3b528b;\n",
       "            color:  #f1f1f1;\n",
       "        }    #T_7cc29b1a_cbfe_11e9_82d4_0028f8551a21row4_col0 {\n",
       "            background-color:  #472a7a;\n",
       "            color:  #f1f1f1;\n",
       "        }    #T_7cc29b1a_cbfe_11e9_82d4_0028f8551a21row4_col1 {\n",
       "            background-color:  #440154;\n",
       "            color:  #f1f1f1;\n",
       "        }    #T_7cc29b1a_cbfe_11e9_82d4_0028f8551a21row5_col0 {\n",
       "            background-color:  #433d84;\n",
       "            color:  #f1f1f1;\n",
       "        }    #T_7cc29b1a_cbfe_11e9_82d4_0028f8551a21row5_col1 {\n",
       "            background-color:  #21918c;\n",
       "            color:  #000000;\n",
       "        }    #T_7cc29b1a_cbfe_11e9_82d4_0028f8551a21row6_col0 {\n",
       "            background-color:  #fde725;\n",
       "            color:  #000000;\n",
       "        }    #T_7cc29b1a_cbfe_11e9_82d4_0028f8551a21row6_col1 {\n",
       "            background-color:  #fde725;\n",
       "            color:  #000000;\n",
       "        }    #T_7cc29b1a_cbfe_11e9_82d4_0028f8551a21row7_col0 {\n",
       "            background-color:  #440154;\n",
       "            color:  #f1f1f1;\n",
       "        }    #T_7cc29b1a_cbfe_11e9_82d4_0028f8551a21row7_col1 {\n",
       "            background-color:  #3b528b;\n",
       "            color:  #f1f1f1;\n",
       "        }    #T_7cc29b1a_cbfe_11e9_82d4_0028f8551a21row8_col0 {\n",
       "            background-color:  #440154;\n",
       "            color:  #f1f1f1;\n",
       "        }    #T_7cc29b1a_cbfe_11e9_82d4_0028f8551a21row8_col1 {\n",
       "            background-color:  #3b528b;\n",
       "            color:  #f1f1f1;\n",
       "        }    #T_7cc29b1a_cbfe_11e9_82d4_0028f8551a21row9_col0 {\n",
       "            background-color:  #472a7a;\n",
       "            color:  #f1f1f1;\n",
       "        }    #T_7cc29b1a_cbfe_11e9_82d4_0028f8551a21row9_col1 {\n",
       "            background-color:  #440154;\n",
       "            color:  #f1f1f1;\n",
       "        }    #T_7cc29b1a_cbfe_11e9_82d4_0028f8551a21row10_col0 {\n",
       "            background-color:  #433d84;\n",
       "            color:  #f1f1f1;\n",
       "        }    #T_7cc29b1a_cbfe_11e9_82d4_0028f8551a21row10_col1 {\n",
       "            background-color:  #21918c;\n",
       "            color:  #000000;\n",
       "        }    #T_7cc29b1a_cbfe_11e9_82d4_0028f8551a21row11_col0 {\n",
       "            background-color:  #fde725;\n",
       "            color:  #000000;\n",
       "        }    #T_7cc29b1a_cbfe_11e9_82d4_0028f8551a21row11_col1 {\n",
       "            background-color:  #fde725;\n",
       "            color:  #000000;\n",
       "        }    #T_7cc29b1a_cbfe_11e9_82d4_0028f8551a21row12_col0 {\n",
       "            background-color:  #440154;\n",
       "            color:  #f1f1f1;\n",
       "        }    #T_7cc29b1a_cbfe_11e9_82d4_0028f8551a21row12_col1 {\n",
       "            background-color:  #3b528b;\n",
       "            color:  #f1f1f1;\n",
       "        }    #T_7cc29b1a_cbfe_11e9_82d4_0028f8551a21row13_col0 {\n",
       "            background-color:  #440154;\n",
       "            color:  #f1f1f1;\n",
       "        }    #T_7cc29b1a_cbfe_11e9_82d4_0028f8551a21row13_col1 {\n",
       "            background-color:  #3b528b;\n",
       "            color:  #f1f1f1;\n",
       "        }    #T_7cc29b1a_cbfe_11e9_82d4_0028f8551a21row14_col0 {\n",
       "            background-color:  #472a7a;\n",
       "            color:  #f1f1f1;\n",
       "        }    #T_7cc29b1a_cbfe_11e9_82d4_0028f8551a21row14_col1 {\n",
       "            background-color:  #440154;\n",
       "            color:  #f1f1f1;\n",
       "        }</style><table id=\"T_7cc29b1a_cbfe_11e9_82d4_0028f8551a21\" ><thead>    <tr>        <th class=\"blank\" ></th>        <th class=\"blank level0\" ></th>        <th class=\"col_heading level0 col0\" >2012</th>        <th class=\"col_heading level0 col1\" >2015</th>    </tr>    <tr>        <th class=\"index_name level0\" >subject</th>        <th class=\"index_name level1\" >Region</th>        <th class=\"blank\" ></th>        <th class=\"blank\" ></th>    </tr></thead><tbody>\n",
       "                <tr>\n",
       "                        <th id=\"T_7cc29b1a_cbfe_11e9_82d4_0028f8551a21level0_row0\" class=\"row_heading level0 row0\" rowspan=5>literacy</th>\n",
       "                        <th id=\"T_7cc29b1a_cbfe_11e9_82d4_0028f8551a21level1_row0\" class=\"row_heading level1 row0\" >East Asia & Pacific</th>\n",
       "                        <td id=\"T_7cc29b1a_cbfe_11e9_82d4_0028f8551a21row0_col0\" class=\"data row0 col0\" >3</td>\n",
       "                        <td id=\"T_7cc29b1a_cbfe_11e9_82d4_0028f8551a21row0_col1\" class=\"data row0 col1\" >2</td>\n",
       "            </tr>\n",
       "            <tr>\n",
       "                                <th id=\"T_7cc29b1a_cbfe_11e9_82d4_0028f8551a21level1_row1\" class=\"row_heading level1 row1\" >Europe & Central Asia</th>\n",
       "                        <td id=\"T_7cc29b1a_cbfe_11e9_82d4_0028f8551a21row1_col0\" class=\"data row1 col0\" >17</td>\n",
       "                        <td id=\"T_7cc29b1a_cbfe_11e9_82d4_0028f8551a21row1_col1\" class=\"data row1 col1\" >4</td>\n",
       "            </tr>\n",
       "            <tr>\n",
       "                                <th id=\"T_7cc29b1a_cbfe_11e9_82d4_0028f8551a21level1_row2\" class=\"row_heading level1 row2\" >Latin America & Caribbean</th>\n",
       "                        <td id=\"T_7cc29b1a_cbfe_11e9_82d4_0028f8551a21row2_col0\" class=\"data row2 col0\" >0</td>\n",
       "                        <td id=\"T_7cc29b1a_cbfe_11e9_82d4_0028f8551a21row2_col1\" class=\"data row2 col1\" >1</td>\n",
       "            </tr>\n",
       "            <tr>\n",
       "                                <th id=\"T_7cc29b1a_cbfe_11e9_82d4_0028f8551a21level1_row3\" class=\"row_heading level1 row3\" >Middle East & North Africa</th>\n",
       "                        <td id=\"T_7cc29b1a_cbfe_11e9_82d4_0028f8551a21row3_col0\" class=\"data row3 col0\" >0</td>\n",
       "                        <td id=\"T_7cc29b1a_cbfe_11e9_82d4_0028f8551a21row3_col1\" class=\"data row3 col1\" >1</td>\n",
       "            </tr>\n",
       "            <tr>\n",
       "                                <th id=\"T_7cc29b1a_cbfe_11e9_82d4_0028f8551a21level1_row4\" class=\"row_heading level1 row4\" >North America</th>\n",
       "                        <td id=\"T_7cc29b1a_cbfe_11e9_82d4_0028f8551a21row4_col0\" class=\"data row4 col0\" >2</td>\n",
       "                        <td id=\"T_7cc29b1a_cbfe_11e9_82d4_0028f8551a21row4_col1\" class=\"data row4 col1\" >0</td>\n",
       "            </tr>\n",
       "            <tr>\n",
       "                        <th id=\"T_7cc29b1a_cbfe_11e9_82d4_0028f8551a21level0_row5\" class=\"row_heading level0 row5\" rowspan=5>numeracy</th>\n",
       "                        <th id=\"T_7cc29b1a_cbfe_11e9_82d4_0028f8551a21level1_row5\" class=\"row_heading level1 row5\" >East Asia & Pacific</th>\n",
       "                        <td id=\"T_7cc29b1a_cbfe_11e9_82d4_0028f8551a21row5_col0\" class=\"data row5 col0\" >3</td>\n",
       "                        <td id=\"T_7cc29b1a_cbfe_11e9_82d4_0028f8551a21row5_col1\" class=\"data row5 col1\" >2</td>\n",
       "            </tr>\n",
       "            <tr>\n",
       "                                <th id=\"T_7cc29b1a_cbfe_11e9_82d4_0028f8551a21level1_row6\" class=\"row_heading level1 row6\" >Europe & Central Asia</th>\n",
       "                        <td id=\"T_7cc29b1a_cbfe_11e9_82d4_0028f8551a21row6_col0\" class=\"data row6 col0\" >17</td>\n",
       "                        <td id=\"T_7cc29b1a_cbfe_11e9_82d4_0028f8551a21row6_col1\" class=\"data row6 col1\" >4</td>\n",
       "            </tr>\n",
       "            <tr>\n",
       "                                <th id=\"T_7cc29b1a_cbfe_11e9_82d4_0028f8551a21level1_row7\" class=\"row_heading level1 row7\" >Latin America & Caribbean</th>\n",
       "                        <td id=\"T_7cc29b1a_cbfe_11e9_82d4_0028f8551a21row7_col0\" class=\"data row7 col0\" >0</td>\n",
       "                        <td id=\"T_7cc29b1a_cbfe_11e9_82d4_0028f8551a21row7_col1\" class=\"data row7 col1\" >1</td>\n",
       "            </tr>\n",
       "            <tr>\n",
       "                                <th id=\"T_7cc29b1a_cbfe_11e9_82d4_0028f8551a21level1_row8\" class=\"row_heading level1 row8\" >Middle East & North Africa</th>\n",
       "                        <td id=\"T_7cc29b1a_cbfe_11e9_82d4_0028f8551a21row8_col0\" class=\"data row8 col0\" >0</td>\n",
       "                        <td id=\"T_7cc29b1a_cbfe_11e9_82d4_0028f8551a21row8_col1\" class=\"data row8 col1\" >1</td>\n",
       "            </tr>\n",
       "            <tr>\n",
       "                                <th id=\"T_7cc29b1a_cbfe_11e9_82d4_0028f8551a21level1_row9\" class=\"row_heading level1 row9\" >North America</th>\n",
       "                        <td id=\"T_7cc29b1a_cbfe_11e9_82d4_0028f8551a21row9_col0\" class=\"data row9 col0\" >2</td>\n",
       "                        <td id=\"T_7cc29b1a_cbfe_11e9_82d4_0028f8551a21row9_col1\" class=\"data row9 col1\" >0</td>\n",
       "            </tr>\n",
       "            <tr>\n",
       "                        <th id=\"T_7cc29b1a_cbfe_11e9_82d4_0028f8551a21level0_row10\" class=\"row_heading level0 row10\" rowspan=5>problem solving in technology-rich environments</th>\n",
       "                        <th id=\"T_7cc29b1a_cbfe_11e9_82d4_0028f8551a21level1_row10\" class=\"row_heading level1 row10\" >East Asia & Pacific</th>\n",
       "                        <td id=\"T_7cc29b1a_cbfe_11e9_82d4_0028f8551a21row10_col0\" class=\"data row10 col0\" >3</td>\n",
       "                        <td id=\"T_7cc29b1a_cbfe_11e9_82d4_0028f8551a21row10_col1\" class=\"data row10 col1\" >2</td>\n",
       "            </tr>\n",
       "            <tr>\n",
       "                                <th id=\"T_7cc29b1a_cbfe_11e9_82d4_0028f8551a21level1_row11\" class=\"row_heading level1 row11\" >Europe & Central Asia</th>\n",
       "                        <td id=\"T_7cc29b1a_cbfe_11e9_82d4_0028f8551a21row11_col0\" class=\"data row11 col0\" >17</td>\n",
       "                        <td id=\"T_7cc29b1a_cbfe_11e9_82d4_0028f8551a21row11_col1\" class=\"data row11 col1\" >4</td>\n",
       "            </tr>\n",
       "            <tr>\n",
       "                                <th id=\"T_7cc29b1a_cbfe_11e9_82d4_0028f8551a21level1_row12\" class=\"row_heading level1 row12\" >Latin America & Caribbean</th>\n",
       "                        <td id=\"T_7cc29b1a_cbfe_11e9_82d4_0028f8551a21row12_col0\" class=\"data row12 col0\" >0</td>\n",
       "                        <td id=\"T_7cc29b1a_cbfe_11e9_82d4_0028f8551a21row12_col1\" class=\"data row12 col1\" >1</td>\n",
       "            </tr>\n",
       "            <tr>\n",
       "                                <th id=\"T_7cc29b1a_cbfe_11e9_82d4_0028f8551a21level1_row13\" class=\"row_heading level1 row13\" >Middle East & North Africa</th>\n",
       "                        <td id=\"T_7cc29b1a_cbfe_11e9_82d4_0028f8551a21row13_col0\" class=\"data row13 col0\" >0</td>\n",
       "                        <td id=\"T_7cc29b1a_cbfe_11e9_82d4_0028f8551a21row13_col1\" class=\"data row13 col1\" >1</td>\n",
       "            </tr>\n",
       "            <tr>\n",
       "                                <th id=\"T_7cc29b1a_cbfe_11e9_82d4_0028f8551a21level1_row14\" class=\"row_heading level1 row14\" >North America</th>\n",
       "                        <td id=\"T_7cc29b1a_cbfe_11e9_82d4_0028f8551a21row14_col0\" class=\"data row14 col0\" >2</td>\n",
       "                        <td id=\"T_7cc29b1a_cbfe_11e9_82d4_0028f8551a21row14_col1\" class=\"data row14 col1\" >0</td>\n",
       "            </tr>\n",
       "    </tbody></table>"
      ],
      "text/plain": [
       "<pandas.io.formats.style.Styler at 0x2168b043358>"
      ]
     },
     "execution_count": 5,
     "metadata": {},
     "output_type": "execute_result"
    }
   ],
   "source": [
    "# show data points across the different regions\n",
    "#df_adpr_clean\n",
    "df_adpr_clean[(df_adpr_clean['gender'] == 'Total')]\\\n",
    "    .groupby(['subject', 'level', 'Region']).count()[ls_adult_years]\\\n",
    "    .groupby(['subject', 'Region']).max()\\\n",
    "    .style.background_gradient(cmap='viridis')"
   ]
  },
  {
   "cell_type": "code",
   "execution_count": 32,
   "metadata": {},
   "outputs": [
    {
     "data": {
      "text/plain": [
       "array(['Australia', 'Austria', 'Canada', 'Chile', 'Cyprus',\n",
       "       'Czech Republic', 'Denmark', 'Estonia', 'Finland', 'France',\n",
       "       'Germany', 'Greece', 'Ireland', 'Israel', 'Italy', 'Japan',\n",
       "       'Korea, Rep.', 'Lithuania', 'Netherlands', 'New Zealand', 'Norway',\n",
       "       'Poland', 'Russian Federation', 'Singapore', 'Slovak Republic',\n",
       "       'Slovenia', 'Spain', 'Sweden', 'Turkey', 'United States'],\n",
       "      dtype=object)"
      ]
     },
     "execution_count": 32,
     "metadata": {},
     "output_type": "execute_result"
    }
   ],
   "source": [
    "df_adpr_clean['Country Name'].unique()"
   ]
  },
  {
   "cell_type": "code",
   "execution_count": 33,
   "metadata": {},
   "outputs": [
    {
     "data": {
      "image/png": "[encoded data removed]",
      "text/plain": [
       "<Figure size 432x288 with 1 Axes>"
      ]
     },
     "metadata": {
      "needs_background": "light"
     },
     "output_type": "display_data"
    },
    {
     "data": {
      "image/png": "[encoded data removed]",
      "text/plain": [
       "<Figure size 432x288 with 1 Axes>"
      ]
     },
     "metadata": {
      "needs_background": "light"
     },
     "output_type": "display_data"
    },
    {
     "data": {
      "image/png": "[encoded data removed]",
      "text/plain": [
       "<Figure size 432x288 with 1 Axes>"
      ]
     },
     "metadata": {
      "needs_background": "light"
     },
     "output_type": "display_data"
    }
   ],
   "source": [
    "#tmp = df_pisa_clean[(df_pisa_clean['gender'] == 'Total') & (df_pisa_clean['subject'] == 'literacy')].groupby(['level', 'Region']).mean()[['2015']]\n",
    "#tmp = tmp.reset_index().groupby('Region', axis=1).mean().groupby('level', axis=1).mean()#.transpose()\n",
    "for sub in ['literacy', 'numeracy', 'problem solving in technology-rich environments']:\n",
    "    tmp = df_adpr_clean[(df_adpr_clean['gender'] == 'Total') & (df_adpr_clean['subject'] == sub)][['Country Name', 'Region', 'level', '2012']]\n",
    "    tmp.groupby(['Region', 'level']).mean().reset_index().pivot(index='level', columns='Region', values='2012').plot.bar();\n",
    "\n",
    "#tmp#.plot.bar(figsize=(20, 15))"
   ]
  },
  {
   "cell_type": "markdown",
   "metadata": {},
   "source": [
    "Unfortunatly, the data we have is quite sparse."
   ]
  }
 ],
 "metadata": {
  "kernelspec": {
   "display_name": "datascience",
   "language": "python",
   "name": "datascience"
  },
  "language_info": {
   "codemirror_mode": {
    "name": "ipython",
    "version": 3
   },
   "file_extension": ".py",
   "mimetype": "text/x-python",
   "name": "python",
   "nbconvert_exporter": "python",
   "pygments_lexer": "ipython3",
   "version": "3.5.2"
  }
 },
 "nbformat": 4,
 "nbformat_minor": 2
}
