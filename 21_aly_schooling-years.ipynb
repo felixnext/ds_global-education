{
 "cells": [
  {
   "cell_type": "markdown",
   "metadata": {},
   "source": [
    "# Relation of schooling years to education\n",
    "\n",
    "In this notebook we will analyze the correlation between years of education and the proficiency in certain skills.\n",
    "\n",
    "First we will load all the data and extract the relevant indicators (see notebook `11` for details):"
   ]
  },
  {
   "cell_type": "code",
   "execution_count": 1,
   "metadata": {},
   "outputs": [],
   "source": [
    "import numpy as np\n",
    "import pandas as pd\n",
    "import seaborn as sns\n",
    "import os\n",
    "from matplotlib import pyplot as plt\n",
    "import edstats_utils as edstats\n",
    "%matplotlib inline\n",
    "\n",
    "# some pandas options\n",
    "pd.set_option('display.max_colwidth', -1)\n",
    "\n",
    "datapath = \"./datasets/edstats\"\n",
    "df_country = pd.read_csv(os.path.join(datapath, \"EdStatsCountry.csv\"))\n",
    "df_data = pd.read_csv(os.path.join(datapath, \"EdStatsData.csv\"))\n",
    "df_series = pd.read_csv(os.path.join(datapath, \"EdStatsSeries.csv\"))\n",
    "df_note = pd.read_csv(os.path.join(datapath, \"EdStatsFootNote.csv\"))\n",
    "df_cseries = pd.read_csv(os.path.join(datapath, \"EdStatsCountry-Series.csv\"))"
   ]
  },
  {
   "cell_type": "code",
   "execution_count": 2,
   "metadata": {},
   "outputs": [
    {
     "data": {
      "text/plain": [
       "['PRJ.POP.ALL.S1.MF',\n",
       " 'PRJ.POP.ALL.2.MF',\n",
       " 'PRJ.POP.ALL.NED.MF',\n",
       " 'PRJ.POP.ALL.4.MF',\n",
       " 'PRJ.POP.ALL.1.MF',\n",
       " 'PRJ.POP.ALL.3.MF']"
      ]
     },
     "execution_count": 2,
     "metadata": {},
     "output_type": "execute_result"
    }
   ],
   "source": [
    "# list of total wittgenstein projection indicators\n",
    "list_witt_total = edstats.list_indicators('Population in .* highest level .* Total', df_data)\n",
    "#list_witt_total = ['PRJ.POP.ALL.S1.MF', 'PRJ.POP.ALL.1.MF', 'PRJ.POP.ALL.2.MF', 'PRJ.POP.ALL.3.MF', 'PRJ.POP.ALL.4.MF', 'PRJ.POP.ALL.NED.MF']\n",
    "list_witt_total"
   ]
  }
 ],
 "metadata": {
  "kernelspec": {
   "display_name": "datascience",
   "language": "python",
   "name": "datascience"
  },
  "language_info": {
   "codemirror_mode": {
    "name": "ipython",
    "version": 3
   },
   "file_extension": ".py",
   "mimetype": "text/x-python",
   "name": "python",
   "nbconvert_exporter": "python",
   "pygments_lexer": "ipython3",
   "version": "3.5.2"
  }
 },
 "nbformat": 4,
 "nbformat_minor": 2
}
